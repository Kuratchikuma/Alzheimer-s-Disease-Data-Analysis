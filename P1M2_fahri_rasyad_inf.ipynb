{
 "cells": [
  {
   "cell_type": "markdown",
   "metadata": {},
   "source": [
    "# 10. Model Inference"
   ]
  },
  {
   "cell_type": "markdown",
   "metadata": {},
   "source": [
    "## Import Library"
   ]
  },
  {
   "cell_type": "code",
   "execution_count": 1,
   "metadata": {},
   "outputs": [],
   "source": [
    "import numpy as np\n",
    "import pandas as pd\n",
    "import joblib"
   ]
  },
  {
   "cell_type": "markdown",
   "metadata": {},
   "source": [
    "## Load Model"
   ]
  },
  {
   "cell_type": "code",
   "execution_count": 23,
   "metadata": {},
   "outputs": [
    {
     "name": "stdout",
     "output_type": "stream",
     "text": [
      "Pipeline(steps=[('scaler', StandardScaler()),\n",
      "                ('classifier',\n",
      "                 GradientBoostingClassifier(max_depth=4, n_estimators=200,\n",
      "                                            random_state=42))])\n"
     ]
    }
   ],
   "source": [
    "# Muat model pipeline yang sudah disimpan dengan joblib\n",
    "loaded_model = joblib.load('best_model.joblib')\n",
    "\n",
    "# Lihat model yang telah dimuat untuk memastikan semuanya benar\n",
    "print(loaded_model)"
   ]
  },
  {
   "cell_type": "markdown",
   "metadata": {},
   "source": [
    "## Buat data baru untuk inference"
   ]
  },
  {
   "cell_type": "code",
   "execution_count": 24,
   "metadata": {},
   "outputs": [
    {
     "name": "stdout",
     "output_type": "stream",
     "text": [
      "    PatientID  Age Gender Ethnicity EducationLevel        BMI Smoking  \\\n",
      "0        4751   73      1         1              2  37.534879       1   \n",
      "1        4752   72      1         0              1  29.802404       0   \n",
      "2        4753   75      1         1              1  22.363435       0   \n",
      "3        4754   68      1         0              2  35.708440       1   \n",
      "4        4755   79      1         1              0  24.299347       0   \n",
      "..        ...  ...    ...       ...            ...        ...     ...   \n",
      "95       4846   65      0         0              1  28.708493       0   \n",
      "96       4847   77      1         2              0  36.732354       0   \n",
      "97       4848   71      0         1              1  32.276649       0   \n",
      "98       4849   72      0         3              1  24.807007       0   \n",
      "99       4850   84      0         0              0  39.303980       0   \n",
      "\n",
      "    AlcoholConsumption  PhysicalActivity  DietQuality  ...  MMSE  \\\n",
      "0            13.129158          5.608368     9.558161  ...    17   \n",
      "1             2.682359          4.810260     2.372491  ...     0   \n",
      "2             4.273040          7.613779     0.720695  ...     0   \n",
      "3            19.509501          8.607964     0.043087  ...    13   \n",
      "4            18.954524          1.458813     5.592751  ...    24   \n",
      "..                 ...               ...          ...  ...   ...   \n",
      "95           17.967778          8.179528     6.393737  ...    28   \n",
      "96            7.791565          6.808914     3.351334  ...    21   \n",
      "97            5.299750          0.623638     0.470836  ...     5   \n",
      "98           13.708427          5.778903     4.366448  ...    16   \n",
      "99            7.082992          5.957966     2.947779  ...    28   \n",
      "\n",
      "   FunctionalAssessment MemoryComplaints BehavioralProblems       ADL  \\\n",
      "0                     1                0                  0  3.688140   \n",
      "1                     0                0                  1  3.344513   \n",
      "2                     1                0                  1  4.953567   \n",
      "3                     0                0                  0  1.236570   \n",
      "4                     1                1                  0  8.176158   \n",
      "..                  ...              ...                ...       ...   \n",
      "95                    0                0                  0  2.575313   \n",
      "96                    0                0                  0  0.953366   \n",
      "97                    1                0                  0  1.090973   \n",
      "98                    1                0                  0  1.068194   \n",
      "99                    1                0                  1  9.613971   \n",
      "\n",
      "   Confusion Disorientation  PersonalityChanges  DifficultyCompletingTasks  \\\n",
      "0          1              1                   1                          0   \n",
      "1          0              1                   1                          0   \n",
      "2          1              0                   1                          0   \n",
      "3          1              0                   1                          0   \n",
      "4          0              0                   1                          0   \n",
      "..       ...            ...                 ...                        ...   \n",
      "95         0              0                   0                          1   \n",
      "96         0              1                   1                          1   \n",
      "97         0              0                   1                          1   \n",
      "98         1              1                   1                          1   \n",
      "99         1              0                   0                          0   \n",
      "\n",
      "    Forgetfulness  \n",
      "0               0  \n",
      "1               1  \n",
      "2               1  \n",
      "3               0  \n",
      "4               1  \n",
      "..            ...  \n",
      "95              1  \n",
      "96              0  \n",
      "97              0  \n",
      "98              1  \n",
      "99              1  \n",
      "\n",
      "[100 rows x 33 columns]\n"
     ]
    }
   ],
   "source": [
    "\n",
    "# Jumlah sampel data baru\n",
    "num_samples = 100 \n",
    "\n",
    "# Generate data baru berdasarkan struktur original dataframe\n",
    "data_random = {\n",
    "    'PatientID': np.arange(4751, 4751 + num_samples),  \n",
    "    'Age': np.random.randint(65, 90, size=num_samples),  \n",
    "    'Gender': np.random.choice(['0', '1'], size=num_samples),  \n",
    "    'Ethnicity': np.random.choice(['0', '1', '2', '3'], size=num_samples),  \n",
    "    'EducationLevel': np.random.choice(['0', '1', '2', '3'], size=num_samples),  \n",
    "    'BMI': np.round(np.random.uniform(15, 40, size=num_samples), 6),  \n",
    "    'Smoking': np.random.choice(['0', '1'], size=num_samples),  \n",
    "    'AlcoholConsumption': np.round(np.random.uniform(0, 20, size=num_samples), 6),  \n",
    "    'PhysicalActivity': np.round(np.random.uniform(0, 10, size=num_samples), 6),  \n",
    "    'DietQuality': np.round(np.random.uniform(0, 10, size=num_samples), 6),  \n",
    "    'SleepQuality': np.round(np.random.uniform(0, 10, size=num_samples), 6),  \n",
    "    'FamilyHistoryAlzheimers': np.random.choice(['0', '1'], size=num_samples),  \n",
    "    'CardiovascularDisease': np.random.choice(['0', '1'], size=num_samples),  \n",
    "    'Diabetes': np.random.choice(['0', '1'], size=num_samples),  \n",
    "    'Depression': np.random.choice(['0', '1'], size=num_samples),  \n",
    "    'HeadInjury': np.random.choice(['0', '1'], size=num_samples),  \n",
    "    'Hypertension': np.random.choice(['0', '1'], size=num_samples),  \n",
    "    'SystolicBP': np.random.randint(90, 180, size=num_samples),  \n",
    "    'DiastolicBP': np.random.randint(60, 120, size=num_samples),  \n",
    "    'CholesterolTotal': np.random.randint(150, 300, size=num_samples),  \n",
    "    'CholesterolLDL': np.random.randint(70, 200, size=num_samples), \n",
    "    'CholesterolHDL': np.random.randint(30, 100, size=num_samples),  \n",
    "    'CholesterolTriglycerides': np.random.randint(50, 300, size=num_samples),  \n",
    "    'MMSE': np.random.randint(0, 30, size=num_samples),  \n",
    "    'FunctionalAssessment': np.random.choice(['0', '1'], size=num_samples),  \n",
    "    'MemoryComplaints': np.random.choice(['0', '1'], size=num_samples),  \n",
    "    'BehavioralProblems': np.random.choice(['0', '1'], size=num_samples),  \n",
    "    'ADL': np.round(np.random.uniform(0, 10, size=num_samples), 6),  \n",
    "    'Confusion': np.random.choice(['0', '1'], size=num_samples),  \n",
    "    'Disorientation': np.random.choice(['0', '1'], size=num_samples),  \n",
    "    'PersonalityChanges': np.random.choice(['0', '1'], size=num_samples),  \n",
    "    'DifficultyCompletingTasks': np.random.choice(['0', '1'], size=num_samples),  \n",
    "    'Forgetfulness': np.random.choice(['0', '1'], size=num_samples), \n",
    "}\n",
    "# Mengubah dictionary menjadi DataFrame\n",
    "df_random = pd.DataFrame(data_random)\n",
    "\n",
    "# Preview data acak yang dihasilkan\n",
    "print(df_random)"
   ]
  },
  {
   "cell_type": "code",
   "execution_count": 25,
   "metadata": {},
   "outputs": [
    {
     "name": "stdout",
     "output_type": "stream",
     "text": [
      "PatientID                      int32\n",
      "Age                            int32\n",
      "Gender                        object\n",
      "Ethnicity                     object\n",
      "EducationLevel                object\n",
      "BMI                          float64\n",
      "Smoking                       object\n",
      "AlcoholConsumption           float64\n",
      "PhysicalActivity             float64\n",
      "DietQuality                  float64\n",
      "SleepQuality                 float64\n",
      "FamilyHistoryAlzheimers       object\n",
      "CardiovascularDisease         object\n",
      "Diabetes                      object\n",
      "Depression                    object\n",
      "HeadInjury                    object\n",
      "Hypertension                  object\n",
      "SystolicBP                     int32\n",
      "DiastolicBP                    int32\n",
      "CholesterolTotal               int32\n",
      "CholesterolLDL                 int32\n",
      "CholesterolHDL                 int32\n",
      "CholesterolTriglycerides       int32\n",
      "MMSE                           int32\n",
      "FunctionalAssessment          object\n",
      "MemoryComplaints              object\n",
      "BehavioralProblems            object\n",
      "ADL                          float64\n",
      "Confusion                     object\n",
      "Disorientation                object\n",
      "PersonalityChanges            object\n",
      "DifficultyCompletingTasks     object\n",
      "Forgetfulness                 object\n",
      "dtype: object\n"
     ]
    }
   ],
   "source": [
    "print(df_random.dtypes)"
   ]
  },
  {
   "cell_type": "code",
   "execution_count": 26,
   "metadata": {},
   "outputs": [
    {
     "name": "stdout",
     "output_type": "stream",
     "text": [
      "Prediksi:  [1 1 1 1 1 1 1 1 1 1 1 1 1 1 1 0 1 1 1 1 0 0 0 1 1 1 1 0 1 0 1 0 1 0 1 1 1\n",
      " 1 1 1 1 1 1 1 1 0 1 0 1 1 1 0 1 1 1 1 1 1 0 1 1 1 1 1 1 0 0 1 0 0 0 1 1 1\n",
      " 1 1 0 1 0 0 1 1 1 0 0 1 1 1 1 1 1 0 1 1 1 0 1 1 1 0]\n"
     ]
    }
   ],
   "source": [
    "# Melakukan prediksi dengan model yang telah disimpan\n",
    "predictions = loaded_model.predict(df_random)\n",
    "\n",
    "print(\"Prediksi: \", predictions)"
   ]
  }
 ],
 "metadata": {
  "kernelspec": {
   "display_name": "base",
   "language": "python",
   "name": "python3"
  },
  "language_info": {
   "codemirror_mode": {
    "name": "ipython",
    "version": 3
   },
   "file_extension": ".py",
   "mimetype": "text/x-python",
   "name": "python",
   "nbconvert_exporter": "python",
   "pygments_lexer": "ipython3",
   "version": "3.12.3"
  }
 },
 "nbformat": 4,
 "nbformat_minor": 2
}
